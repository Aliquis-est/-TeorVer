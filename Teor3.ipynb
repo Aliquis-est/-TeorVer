{
 "cells": [
  {
   "cell_type": "code",
   "execution_count": 121,
   "metadata": {},
   "outputs": [],
   "source": [
    "import pandas as pd\n",
    "import numpy as np\n",
    "from math import factorial as fl"
   ]
  },
  {
   "cell_type": "markdown",
   "metadata": {},
   "source": [
    "Задание 1.\n",
    "Даны значения зарплат из выборки выпускников: 100, 80, 75, 77, 89, 33, 45, 25, 65, 17, 30, 24, 57, 55, 70, 75, 65, 84, 90, 150. Посчитать (желательно без использования статистических методов наподобие std, var, mean) среднее арифметическое, среднее квадратичное отклонение, смещенную и несмещенную оценки дисперсий для данной выборки."
   ]
  },
  {
   "cell_type": "code",
   "execution_count": 122,
   "metadata": {},
   "outputs": [],
   "source": [
    "data = pd.Series([100, 80, 75, 77, 89, 33, 45, 25, 65, 17, 30, 24, 57, 55, 70, 75, 65, 84, 90, 150])\n"
   ]
  },
  {
   "cell_type": "code",
   "execution_count": 123,
   "metadata": {},
   "outputs": [
    {
     "data": {
      "text/plain": [
       "65.3"
      ]
     },
     "execution_count": 123,
     "metadata": {},
     "output_type": "execute_result"
    }
   ],
   "source": [
    "Average = data.sum() / data.count()\n",
    "Average"
   ]
  },
  {
   "cell_type": "code",
   "execution_count": 124,
   "metadata": {},
   "outputs": [
    {
     "data": {
      "text/plain": [
       "30.823854398825596"
      ]
     },
     "execution_count": 124,
     "metadata": {},
     "output_type": "execute_result"
    }
   ],
   "source": [
    "square = np.sqrt(((data - Average) ** 2).sum() / data.count())\n",
    "square"
   ]
  },
  {
   "cell_type": "code",
   "execution_count": 125,
   "metadata": {},
   "outputs": [
    {
     "data": {
      "text/plain": [
       "950.11"
      ]
     },
     "execution_count": 125,
     "metadata": {},
     "output_type": "execute_result"
    }
   ],
   "source": [
    "variance1 = ((data - Average) ** 2).sum() / data.count()\n",
    "variance1"
   ]
  },
  {
   "cell_type": "code",
   "execution_count": 126,
   "metadata": {},
   "outputs": [
    {
     "data": {
      "text/plain": [
       "1000.1157894736842"
      ]
     },
     "execution_count": 126,
     "metadata": {},
     "output_type": "execute_result"
    }
   ],
   "source": [
    "variance2 = ((data - Average) ** 2).sum() / (data.count() - 1)\n",
    "variance2"
   ]
  },
  {
   "cell_type": "markdown",
   "metadata": {},
   "source": [
    "Задание 2. \n",
    "В первом ящике находится 8 мячей, из которых 5 - белые. Во втором ящике - 12 мячей, из которых 5 белых. Из первого ящика вытаскивают случайным образом два мяча, из второго - 4. Какова вероятность того, что 3 мяча белые?"
   ]
  },
  {
   "cell_type": "markdown",
   "metadata": {},
   "source": [
    "А - вероятность того, что из ящиков вынули три белых мяча. Тогда:\n",
    "\n",
    "* А11 - Два белых мяча из 1-го ящика\n",
    "* А12 - Один белый мяч из 2-го ящика\n",
    "* А21 - Один белый мяч из 1-го ящика\n",
    "* А22 - Два белых мяча из 2-го ящика\n",
    "* А31 - Из первого ящика 0 мячей (т.к. максимум берут 2)\n",
    "* А32 - Из второго ящика 3 мяча (т.к. максимум берут 4)\n",
    "\n",
    "Итого:\n",
    "\n",
    "А = А11* А12 + А21* А22 + А31* А32\n"
   ]
  },
  {
   "cell_type": "code",
   "execution_count": 127,
   "metadata": {},
   "outputs": [
    {
     "data": {
      "text/plain": [
       "0.3686868686868687"
      ]
     },
     "execution_count": 127,
     "metadata": {},
     "output_type": "execute_result"
    }
   ],
   "source": [
    "PA11 = (fl(5) / (fl(2) * fl(5 - 2))) * (fl(3) / (fl(0) * fl(3 - 0))) / (fl(8) / (fl(2) * fl(8 - 2)))\n",
    "PA12 = (fl(5) / (fl(1) * fl(5 - 1))) * (fl(7) / (fl(3) * fl(7 - 3))) / (fl(12) / (fl(4) * fl(12 - 4)))\n",
    "PA21 = (fl(5) / (fl(1) * fl(5 - 1))) * (fl(3) / (fl(1) * fl(3 - 1))) / (fl(8) / (fl(2) * fl(8 - 2)))\n",
    "PA22 = (fl(5) / (fl(2) * fl(5 - 2))) * (fl(7) / (fl(2) * fl(7 - 2))) / (fl(12) / (fl(4) * fl(12 - 4)))\n",
    "PA31 = (fl(5) / (fl(0) * fl(5 - 0))) * (fl(3) / (fl(2) * fl(3 - 2))) / (fl(8) / (fl(2) * fl(8 - 2)))\n",
    "PA32 = (fl(5) / (fl(3) * fl(5 - 3))) * (fl(7) / (fl(1) * fl(7 - 1))) / (fl(12) / (fl(4) * fl(12 - 4)))\n",
    "PA = (PA11 * PA12 + PA21 * PA22 + PA31 * PA32)\n",
    "PA"
   ]
  },
  {
   "cell_type": "markdown",
   "metadata": {},
   "source": [
    "Задание 3. На соревновании по биатлону один из трех спортсменов стреляет и попадает в мишень. Вероятность попадания для первого спортсмена равна 0.9, для второго — 0.8, для третьего — 0.6. Найти вероятность того, что выстрел произведен: a). первым спортсменом б). вторым спортсменом в). третьим спортсменом."
   ]
  },
  {
   "cell_type": "markdown",
   "metadata": {},
   "source": [
    "А - вероятность попадания\n",
    "\n",
    "* А1 - попал первый спортсмен\n",
    "* А2 - попал второй спортсмен\n",
    "* А3 - попал третий спортсмен"
   ]
  },
  {
   "cell_type": "code",
   "execution_count": 128,
   "metadata": {},
   "outputs": [
    {
     "data": {
      "text/plain": [
       "0.7666666666666666"
      ]
     },
     "execution_count": 128,
     "metadata": {},
     "output_type": "execute_result"
    }
   ],
   "source": [
    "PA = (1 / 3 * 0.9 + 1 / 3 * 0.8 + 1 / 3 * 0.6)\n",
    "PA"
   ]
  },
  {
   "cell_type": "code",
   "execution_count": 129,
   "metadata": {},
   "outputs": [
    {
     "data": {
      "text/plain": [
       "0.391304347826087"
      ]
     },
     "execution_count": 129,
     "metadata": {},
     "output_type": "execute_result"
    }
   ],
   "source": [
    "First = (1 / 3 * 0.9) / PA\n",
    "First"
   ]
  },
  {
   "cell_type": "code",
   "execution_count": 130,
   "metadata": {},
   "outputs": [
    {
     "data": {
      "text/plain": [
       "0.3478260869565218"
      ]
     },
     "execution_count": 130,
     "metadata": {},
     "output_type": "execute_result"
    }
   ],
   "source": [
    "Second = (1 / 3 * 0.8) / PA\n",
    "Second"
   ]
  },
  {
   "cell_type": "code",
   "execution_count": 131,
   "metadata": {},
   "outputs": [
    {
     "data": {
      "text/plain": [
       "0.2608695652173913"
      ]
     },
     "execution_count": 131,
     "metadata": {},
     "output_type": "execute_result"
    }
   ],
   "source": [
    "Third = (1 / 3 * 0.6) / PA\n",
    "Third"
   ]
  },
  {
   "cell_type": "markdown",
   "metadata": {},
   "source": [
    "Задание 4. В университет на факультеты A и B поступило равное количество студентов, а на факультет C студентов поступило столько же, сколько на A и B вместе. Вероятность того, что студент факультета A сдаст первую сессию, равна 0.8. Для студента факультета B эта вероятность равна 0.7, а для студента факультета C - 0.9. Студент сдал первую сессию. Какова вероятность, что он учится: \n",
    "* a). на факультете A \n",
    "* б). на факультете B \n",
    "* в). на факультете C?"
   ]
  },
  {
   "cell_type": "markdown",
   "metadata": {},
   "source": [
    "А - вероятность того, что сессия сдана\n",
    "\n",
    "* А1 - факультет А\n",
    "* А2 - факультет В\n",
    "* А3 - факультет С"
   ]
  },
  {
   "cell_type": "code",
   "execution_count": 132,
   "metadata": {},
   "outputs": [
    {
     "data": {
      "text/plain": [
       "0.825"
      ]
     },
     "execution_count": 132,
     "metadata": {},
     "output_type": "execute_result"
    }
   ],
   "source": [
    "PA = (1 / 4 * 0.8 + 1 / 4 * 0.7 + 2 / 4 * 0.9)\n",
    "PA"
   ]
  },
  {
   "cell_type": "code",
   "execution_count": 133,
   "metadata": {},
   "outputs": [
    {
     "data": {
      "text/plain": [
       "0.24242424242424246"
      ]
     },
     "execution_count": 133,
     "metadata": {},
     "output_type": "execute_result"
    }
   ],
   "source": [
    "Student1 = (1 / 4 * 0.8) / PA\n",
    "Student1"
   ]
  },
  {
   "cell_type": "code",
   "execution_count": 134,
   "metadata": {},
   "outputs": [
    {
     "data": {
      "text/plain": [
       "0.21212121212121213"
      ]
     },
     "execution_count": 134,
     "metadata": {},
     "output_type": "execute_result"
    }
   ],
   "source": [
    "Student2 = (1 / 4 * 0.7) / PA\n",
    "Student2"
   ]
  },
  {
   "cell_type": "code",
   "execution_count": 135,
   "metadata": {},
   "outputs": [
    {
     "data": {
      "text/plain": [
       "0.5454545454545455"
      ]
     },
     "execution_count": 135,
     "metadata": {},
     "output_type": "execute_result"
    }
   ],
   "source": [
    "Student3 = (2 / 4 * 0.9) / PA\n",
    "Student3"
   ]
  },
  {
   "cell_type": "markdown",
   "metadata": {},
   "source": [
    "Задание 5. Устройство состоит из трех деталей. Для первой детали вероятность выйти из строя в первый месяц равна 0.1, для второй - 0.2, для третьей - 0.25. Какова вероятность того, что в первый месяц выйдут из строя: \n",
    "* а). все детали \n",
    "* б). только две детали \n",
    "* в). хотя бы одна деталь \n",
    "* г). от одной до двух деталей?"
   ]
  },
  {
   "cell_type": "markdown",
   "metadata": {},
   "source": [
    "А - вероятность, что из строя вышли все детали"
   ]
  },
  {
   "cell_type": "code",
   "execution_count": 136,
   "metadata": {},
   "outputs": [
    {
     "data": {
      "text/plain": [
       "0.005000000000000001"
      ]
     },
     "execution_count": 136,
     "metadata": {},
     "output_type": "execute_result"
    }
   ],
   "source": [
    "PA = 0.1 * 0.2 * 0.25\n",
    "PA"
   ]
  },
  {
   "cell_type": "markdown",
   "metadata": {},
   "source": [
    "B - вероятность, что из строя вышли любые 2 детали\n",
    "\n",
    "* B1 - из строя вышли только первая и вторая деталь\n",
    "* B2 - из строя вышла только первая и третья деталь\n",
    "* B3 - из строя вышла только вторая и третья деталь\n",
    "\n",
    "В = B1 + B2 + B3"
   ]
  },
  {
   "cell_type": "code",
   "execution_count": 137,
   "metadata": {},
   "outputs": [
    {
     "data": {
      "text/plain": [
       "0.08000000000000002"
      ]
     },
     "execution_count": 137,
     "metadata": {},
     "output_type": "execute_result"
    }
   ],
   "source": [
    "PB = (0.1 * 0.2 * 0.75 + 0.1 * 0.25 * 0.8 + 0.2 * 0.25 * 0.9)\n",
    "PB"
   ]
  },
  {
   "cell_type": "markdown",
   "metadata": {},
   "source": [
    "C - вероятность, что из строя вышла хотя бы одна деталь"
   ]
  },
  {
   "cell_type": "code",
   "execution_count": 138,
   "metadata": {},
   "outputs": [
    {
     "data": {
      "text/plain": [
       "0.995"
      ]
     },
     "execution_count": 138,
     "metadata": {},
     "output_type": "execute_result"
    }
   ],
   "source": [
    "PC = 1 - (0.1 * 0.2 * 0.25)\n",
    "PC"
   ]
  },
  {
   "cell_type": "markdown",
   "metadata": {},
   "source": [
    "D - вероятность, что из строя вышла хотя бы одна деталь\n",
    "\n",
    "* D1 - из строя вышла 1 деталь\n",
    "* D2 - из строя вышла 2 деталь\n",
    "* D3 - из строя вышла 3 деталь\n",
    "\n",
    "Е - вероятность, что из строя вышло от одной до двух деталей\n",
    "\n",
    "Е = В + D "
   ]
  },
  {
   "cell_type": "code",
   "execution_count": 139,
   "metadata": {},
   "outputs": [
    {
     "data": {
      "text/plain": [
       "0.16000000000000003"
      ]
     },
     "execution_count": 139,
     "metadata": {},
     "output_type": "execute_result"
    }
   ],
   "source": [
    "PD = (0.9 * 0.2 * 0.25 + 0.1 * 0.8 * 0.25 + 0.1 * 0.2 * 0.75)\n",
    "PE = (PB + PD)\n",
    "PE"
   ]
  },
  {
   "cell_type": "code",
   "execution_count": null,
   "metadata": {},
   "outputs": [],
   "source": []
  }
 ],
 "metadata": {
  "kernelspec": {
   "display_name": "Python 3",
   "language": "python",
   "name": "python3"
  },
  "language_info": {
   "codemirror_mode": {
    "name": "ipython",
    "version": 3
   },
   "file_extension": ".py",
   "mimetype": "text/x-python",
   "name": "python",
   "nbconvert_exporter": "python",
   "pygments_lexer": "ipython3",
   "version": "3.11.3"
  }
 },
 "nbformat": 4,
 "nbformat_minor": 2
}
