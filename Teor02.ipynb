{
 "cells": [
  {
   "cell_type": "code",
   "execution_count": 1,
   "id": "82674ae5-4970-4f68-a17f-0f091247c8ec",
   "metadata": {},
   "outputs": [],
   "source": [
    "import pandas as pd\n",
    "import numpy as np\n",
    "from math import factorial as fl"
   ]
  },
  {
   "cell_type": "markdown",
   "id": "756887de-5056-42e2-8ad8-966dc85f267e",
   "metadata": {},
   "source": [
    "1. Вероятность того, что стрелок попадет в мишень, выстрелив один раз, равна 0.8. Стрелок выстрелил 100 раз. Найдите вероятность того, что стрелок попадет в цель ровно 85 раз."
   ]
  },
  {
   "cell_type": "markdown",
   "id": "1376c491-2004-4def-8285-0613e7b1b54b",
   "metadata": {},
   "source": [
    "$$P_n(X=k) = C_n^k p^k q^{n-k}$$\n"
   ]
  },
  {
   "cell_type": "markdown",
   "id": "3cb7e84d-ccce-454c-8f70-6c9ac208e942",
   "metadata": {},
   "source": [
    "Где: \r\n",
    "    - k =    \r\n",
    "    - n =\n",
    "    \r\n",
    "    - p8\r\n",
    "    \r\n",
    "    - q = 1 - p = 1 - 0.8 = 0.2"
   ]
  },
  {
   "cell_type": "markdown",
   "id": "e14b6b6f-1ba9-40f0-bd22-338b2810a68b",
   "metadata": {},
   "source": [
    "$P_{100}(X=85) = C_{100}^{85} {0.8}^{85} {0.2}^{100-85} = $"
   ]
  },
  {
   "cell_type": "code",
   "execution_count": 2,
   "id": "69b9477e-5b1a-49ab-abc9-87f17911264d",
   "metadata": {},
   "outputs": [
    {
     "name": "stdout",
     "output_type": "stream",
     "text": [
      "0.048061793700746556\n"
     ]
    }
   ],
   "source": [
    "P100 = (fl(100) / (fl(85) * fl(100 - 85))) * 0.8 ** 85 * 0.2 ** (100 - 85)\n",
    "print(P100)"
   ]
  },
  {
   "cell_type": "markdown",
   "id": "cfc083bd-cd6d-4f80-8467-2ab237c067e6",
   "metadata": {},
   "source": [
    "2. Вероятность того, что лампочка перегорит в течение первого дня эксплуатации, равна 0.0004. В жилом комплексе после ремонта в один день включили 5000 новых лампочек. Какова вероятность, что ни одна из них не перегорит в первый день? Какова вероятность, что перегорят ровно две?"
   ]
  },
  {
   "cell_type": "markdown",
   "id": "681ad2cd-21b7-454d-906e-7ef1b93d3e48",
   "metadata": {},
   "source": [
    "λ = 5000*0,0004=2\n",
    "m=0"
   ]
  },
  {
   "cell_type": "markdown",
   "id": "38962f33-fe16-4c3e-966a-d2d8bd59be08",
   "metadata": {},
   "source": [
    "$$P \\approx \\frac{\\lambda^m}{m!}e^{-\\lambda} \\approx \\frac{2^{0}}{0!}e^{-2} \\approx  0.135$$"
   ]
  },
  {
   "cell_type": "code",
   "execution_count": 3,
   "id": "af833b1f-4a8b-4036-9789-772bd759604a",
   "metadata": {},
   "outputs": [],
   "source": [
    "def puas(l,m):\n",
    "    return l**m/fl(m)*np.exp(-l)\n",
    "    "
   ]
  },
  {
   "cell_type": "code",
   "execution_count": 4,
   "id": "39cfdc6e-d444-4089-ba87-888ab0c822c6",
   "metadata": {},
   "outputs": [
    {
     "data": {
      "text/plain": [
       "0.1353352832366127"
      ]
     },
     "execution_count": 4,
     "metadata": {},
     "output_type": "execute_result"
    }
   ],
   "source": [
    "lmbd = 5000*0.0004\n",
    "puas(lmbd, 0)"
   ]
  },
  {
   "cell_type": "markdown",
   "id": "cf0aa116-3f63-4817-a8f4-fd793dd257ea",
   "metadata": {},
   "source": [
    "Какова вероятность, что перегорят ровно две?"
   ]
  },
  {
   "cell_type": "markdown",
   "id": "4287b90f-22d7-42e8-b5f1-0c4d0d7b6221",
   "metadata": {},
   "source": [
    "$$P \\approx \\frac{\\lambda^m}{m!}e^{-\\lambda} \\approx \\frac{2^{2}}{2!}e^{-2} \\approx  0.27$$"
   ]
  },
  {
   "cell_type": "code",
   "execution_count": 5,
   "id": "3c77fb84-3851-47a4-a697-5128ab215b59",
   "metadata": {},
   "outputs": [
    {
     "data": {
      "text/plain": [
       "0.2706705664732254"
      ]
     },
     "execution_count": 5,
     "metadata": {},
     "output_type": "execute_result"
    }
   ],
   "source": [
    "puas(lmbd, 2)"
   ]
  },
  {
   "cell_type": "markdown",
   "id": "e5718c24-4c1c-4bda-9084-c6e67a3b6ea2",
   "metadata": {},
   "source": [
    "3. Монету подбросили 144 раза. Какова вероятность, что орел выпадет ровно 70 раз?"
   ]
  },
  {
   "cell_type": "markdown",
   "id": "b3def6e2-3c78-42bc-8fa2-cfe978703171",
   "metadata": {},
   "source": [
    "$$P \\approx 0.063$$"
   ]
  },
  {
   "cell_type": "code",
   "execution_count": 6,
   "id": "c8feb932-1f9c-400a-ae0f-c3895e4dd986",
   "metadata": {},
   "outputs": [],
   "source": [
    "def choose(n, k):\n",
    "    return fl(n) / (fl(k) * fl(n-k))\n",
    "def bern(p, n, k):\n",
    "    return choose(n, k) * p**(k) * (1 - p)**(n - k)"
   ]
  },
  {
   "cell_type": "code",
   "execution_count": 7,
   "id": "16e774b7-0347-45bf-a988-224211a93a97",
   "metadata": {},
   "outputs": [
    {
     "data": {
      "text/plain": [
       "0.06281178035144776"
      ]
     },
     "execution_count": 7,
     "metadata": {},
     "output_type": "execute_result"
    }
   ],
   "source": [
    "bern(0.5, 144, 70)"
   ]
  },
  {
   "cell_type": "markdown",
   "id": "df9dd4d3-1d78-43b2-b408-fc8e12688b90",
   "metadata": {},
   "source": [
    "4. В первом ящике находится 10 мячей, из которых 7 - белые. Во втором ящике - 11 мячей, из которых 9 белых. Из каждого ящика вытаскивают случайным образом по два мяча. Какова вероятность того, что все мячи белые? Какова вероятность того, что ровно два мяча белые? Какова вероятность того, что хотя бы один мяч белый?"
   ]
  },
  {
   "cell_type": "markdown",
   "id": "08001cb6-2437-44cb-bd56-edf275459df4",
   "metadata": {},
   "source": [
    "$$ P = (\\frac{7}{10} \\cdot \\frac{6}{9}) \\cdot (\\frac{9}{11}\\cdot \\frac{8}{10}) \\approx 0.31 $$"
   ]
  },
  {
   "cell_type": "code",
   "execution_count": 8,
   "id": "a600aecf-f34b-42f9-b5ad-577001857838",
   "metadata": {},
   "outputs": [
    {
     "data": {
      "text/plain": [
       "0.3054545454545455"
      ]
     },
     "execution_count": 8,
     "metadata": {},
     "output_type": "execute_result"
    }
   ],
   "source": [
    "(7*6*9*8)/(10*9*11*10)"
   ]
  },
  {
   "cell_type": "markdown",
   "id": "02037081-26e5-4c08-8b47-31c62cdf900e",
   "metadata": {},
   "source": [
    "4.2 Какова вероятность того, что ровно два мяча белые?"
   ]
  },
  {
   "cell_type": "markdown",
   "id": "3696b48e-b8ec-4b03-8572-e81fc5389e29",
   "metadata": {},
   "source": [
    "$$ P \\approx 0.20 $$"
   ]
  },
  {
   "cell_type": "code",
   "execution_count": 9,
   "id": "184999b0-2bba-4fbf-a736-e15c7dee82cb",
   "metadata": {},
   "outputs": [
    {
     "data": {
      "text/plain": [
       "0.20484848484848484"
      ]
     },
     "execution_count": 9,
     "metadata": {},
     "output_type": "execute_result"
    }
   ],
   "source": [
    "(7/10)*(6/9)*(2/11)*(1/10) + (7/10)*(3/9)*(9/11)*(2/10) + (7/10)*(3/9)*(2/11)*(9/10) + \\\n",
    "(3/10)*(7/9)*(9/11)*(2/10) + (3/10)*(7/9)*(2/11)*(9/10) + (3/10)*(2/9)*(9/11)*(8/10)\n"
   ]
  },
  {
   "cell_type": "code",
   "execution_count": null,
   "id": "da721c3b-c607-47f1-a02c-a4fd56217d61",
   "metadata": {},
   "outputs": [],
   "source": []
  }
 ],
 "metadata": {
  "kernelspec": {
   "display_name": "Python 3 (ipykernel)",
   "language": "python",
   "name": "python3"
  },
  "language_info": {
   "codemirror_mode": {
    "name": "ipython",
    "version": 3
   },
   "file_extension": ".py",
   "mimetype": "text/x-python",
   "name": "python",
   "nbconvert_exporter": "python",
   "pygments_lexer": "ipython3",
   "version": "3.11.3"
  }
 },
 "nbformat": 4,
 "nbformat_minor": 5
}
