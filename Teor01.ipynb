{
 "cells": [
  {
   "cell_type": "markdown",
   "id": "bb2c150f-504c-4a95-99cc-adb265e6ff57",
   "metadata": {},
   "source": [
    "Задача 1. Из колоды в 52 карты извлекаются случайным образом 4 карты."
   ]
  },
  {
   "cell_type": "markdown",
   "id": "a4dcac23-00e6-4ffe-a6a4-d6caa5caa9ef",
   "metadata": {},
   "source": [
    "    a) Найти вероятность того, что все карты – крести."
   ]
  },
  {
   "cell_type": "code",
   "execution_count": 1,
   "id": "c5850d98-b2a0-4dcf-bc48-4bf12cd65db6",
   "metadata": {},
   "outputs": [],
   "source": [
    "from math import factorial"
   ]
  },
  {
   "cell_type": "markdown",
   "id": "895a50cc-90e7-4dd7-ae00-cc0d22b20187",
   "metadata": {},
   "source": [
    "Пусть А - это вероятность того, что все карты - крести.\n",
    "Всего карт одной масти в колоде 13\n",
    "Сочетания:\n",
    "n = 4 из 52\n",
    "m = 4 из 13"
   ]
  },
  {
   "cell_type": "code",
   "execution_count": 2,
   "id": "37ddff55-657f-4532-b191-9f139ddf0208",
   "metadata": {},
   "outputs": [
    {
     "name": "stdout",
     "output_type": "stream",
     "text": [
      "0.0026410564225690276\n"
     ]
    }
   ],
   "source": [
    "n = factorial(52) / (factorial(4) * factorial(52-4))\n",
    "m = factorial(13) / (factorial(4) * factorial(13-4))\n",
    "result = m / n\n",
    "print (result)"
   ]
  },
  {
   "cell_type": "markdown",
   "id": "3fee54a7-ad77-4df5-8f93-607ddc85c96b",
   "metadata": {},
   "source": [
    "    б) Найти вероятность, что среди 4-х карт окажется хотя бы один туз."
   ]
  },
  {
   "cell_type": "markdown",
   "id": "9d836edb-ff0c-40fc-92f1-340a5c55bab2",
   "metadata": {},
   "source": [
    "Пусть А - вероятность выпадения хотя бы 1 туза\n",
    "Тогда:\n",
    "А1 - вероятность выпадения 1 туза\n",
    "А2 - вероятность выпадения 2х тузов\n",
    "А3 - вероятность выпадения 3х тузов\n",
    "А4 - вероятность выпадения 4х тузов\n",
    "\n",
    "n - сочетание 4 карт с остальной колодой\n",
    "\n",
    "1m - (1 из 4) * (3 из 48)\n",
    "2m - (2 из 4) * (2 из 48)\n",
    "3m - (3 из 4) * (1 из 48)\n",
    "4m - (4 из 4)"
   ]
  },
  {
   "cell_type": "code",
   "execution_count": 3,
   "id": "acf76a84-ea65-4b44-8ced-0c21b90100db",
   "metadata": {},
   "outputs": [
    {
     "name": "stdout",
     "output_type": "stream",
     "text": [
      "0.2812632745405855\n"
     ]
    }
   ],
   "source": [
    "А1 = (factorial(4) / (factorial(1) * factorial(4-1))) * (factorial(48) / (factorial(3) * factorial(48-3))) / n\n",
    "А2 = (factorial(4) / (factorial(2) * factorial(4-2))) * (factorial(48) / (factorial(2) * factorial(48-2))) / n\n",
    "А3 = (factorial(4) / (factorial(3) * factorial(4-3))) * (factorial(48) / (factorial(1) * factorial(48-1))) / n\n",
    "А4 = (factorial(4) / (factorial(4) * factorial(4-4))) / n\n",
    "\n",
    "А = А1 + А2 + А3 + А4\n",
    "print (А)"
   ]
  },
  {
   "cell_type": "markdown",
   "id": "dbd59808-0d75-4e0e-90ae-c00ab61269fa",
   "metadata": {},
   "source": [
    "Задача 2. На входной двери подъезда установлен кодовый замок, содержащий десять кнопок с цифрами от 0 до 9. Код содержит три цифры, которые нужно нажать одновременно. \n",
    "Какова вероятность того, что человек, не знающий код, откроет дверь с первой попытки?"
   ]
  },
  {
   "cell_type": "markdown",
   "id": "a5fef3b0-64dc-417b-a46a-c20a171c3968",
   "metadata": {},
   "source": [
    "n = 3 из 10 (размещение)\n",
    "m = 1 "
   ]
  },
  {
   "cell_type": "code",
   "execution_count": 6,
   "id": "c66c24b7-6afa-4ca0-935d-1c59193e5f84",
   "metadata": {},
   "outputs": [
    {
     "name": "stdout",
     "output_type": "stream",
     "text": [
      "0.001388888888888889\n"
     ]
    }
   ],
   "source": [
    "A = 1 / (factorial(10) / (factorial(10-3)))\n",
    "print (A)"
   ]
  },
  {
   "cell_type": "markdown",
   "id": "f3ea932e-d536-4202-b0b6-40e943c75d58",
   "metadata": {},
   "source": [
    "Задача 3. В ящике имеется 15 деталей, из которых 9 окрашены. Рабочий случайным образом извлекает 3 детали. \n",
    "Какова вероятность того, что все извлеченные детали окрашены?\r\n"
   ]
  },
  {
   "cell_type": "markdown",
   "id": "af4c73f6-df5e-47f2-bd9d-e4ab50ad5bf6",
   "metadata": {},
   "source": [
    "Сочетание:\n",
    "n = 3 из 15\n",
    "m = 3 из 9"
   ]
  },
  {
   "cell_type": "code",
   "execution_count": 5,
   "id": "af10b415-9878-4305-8de9-2cf2d941620e",
   "metadata": {},
   "outputs": [
    {
     "name": "stdout",
     "output_type": "stream",
     "text": [
      "0.18461538461538463\n"
     ]
    }
   ],
   "source": [
    "A = (factorial(9) / (factorial(3) * (factorial(9-3)))) / (factorial(15) / (factorial(3) * (factorial(15-3))))\n",
    "print (A)"
   ]
  },
  {
   "cell_type": "markdown",
   "id": "6ef1f3d3-9e5c-41de-bc25-b3af8554c17d",
   "metadata": {},
   "source": [
    "Задача 4. В лотерее 100 билетов. Из них 2 выигрышных. \n",
    "Какова вероятность того, что 2 приобретенных билета окажутся выигрышными?"
   ]
  },
  {
   "cell_type": "code",
   "execution_count": null,
   "id": "e28b33fd-bde7-4e16-b411-4792321d5f0d",
   "metadata": {},
   "outputs": [],
   "source": [
    "Сочетание:\n",
    "n = 2 из 100\n",
    "m = 2 из 9"
   ]
  },
  {
   "cell_type": "code",
   "execution_count": 7,
   "id": "7a0a4b2a-e229-4396-b3a2-c86d0d290d35",
   "metadata": {},
   "outputs": [
    {
     "name": "stdout",
     "output_type": "stream",
     "text": [
      "0.00020202020202020202\n"
     ]
    }
   ],
   "source": [
    "A = (factorial(2) / (factorial(2) * (factorial(2-2)))) / (factorial(100) / (factorial(2) * (factorial(100-2))))\n",
    "print (A)"
   ]
  },
  {
   "cell_type": "code",
   "execution_count": null,
   "id": "472a665b-e39e-417a-94a1-6b5a7b7fc581",
   "metadata": {},
   "outputs": [],
   "source": []
  }
 ],
 "metadata": {
  "kernelspec": {
   "display_name": "Python 3 (ipykernel)",
   "language": "python",
   "name": "python3"
  },
  "language_info": {
   "codemirror_mode": {
    "name": "ipython",
    "version": 3
   },
   "file_extension": ".py",
   "mimetype": "text/x-python",
   "name": "python",
   "nbconvert_exporter": "python",
   "pygments_lexer": "ipython3",
   "version": "3.11.3"
  }
 },
 "nbformat": 4,
 "nbformat_minor": 5
}
